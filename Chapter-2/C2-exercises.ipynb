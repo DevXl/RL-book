{
 "cells": [
  {
   "cell_type": "markdown",
   "metadata": {},
   "source": [
    "# Chapter 2: Multi-armed Bandit"
   ]
  },
  {
   "cell_type": "markdown",
   "metadata": {},
   "source": [
    "## Exercise 2.1\n",
    "\n",
    "In $\\epsilon$-greedy action selection, for the case of two actions and $\\epsilon=0.5$, what is the probability that the greedy action is selected?"
   ]
  },
  {
   "cell_type": "markdown",
   "metadata": {},
   "source": [
    "**Answer**: 50% of the time the greedy action is exploited. There's a 50% chance of exploration, in which the greedy or non-greedy actions are selected each with 50% probability, so the probability of selecting the greedy action in total is:\n"
   ]
  },
  {
   "cell_type": "markdown",
   "metadata": {},
   "source": [
    "$$\n",
    "P(A_g) = P(A_g | exploration) + P(A_g | exploitation) = 0.5 \\times 0.5 + 0.5 \\times 1 = 0.75\n",
    "$$"
   ]
  },
  {
   "cell_type": "markdown",
   "metadata": {},
   "source": [
    "## Exercise 2.2\n",
    "\n",
    "Bandit example Consider a k-armed bandit problem with k = 4 actions, denoted 1, 2, 3, and 4. Consider applying to this problem a bandit algorithm using ε-greedy action selection, sample-average action-value estimates, and initial estimates of $Q_1(a) = 0$, for all a. Suppose the initial sequence of actions and rewards is $A_1 = 1$, $R_1 = 1$, $A_2 = 2$, $R_2$ = 1, $A_3$ = 2, $R_3 = 2$, $A_4 = 2$, $R_4 = 2$, $A_5 = 3$, $R_5 = 0$. On some of these time steps the ε case may have occurred, causing an action to be selected at random. On which time steps did this definitely occur? On which time steps could this possibly have occurred"
   ]
  },
  {
   "cell_type": "markdown",
   "metadata": {},
   "source": [
    "**Answer**: **INCOMPLETE**\n",
    "1) The first action could have been selected randomly.\n",
    "2) The second action is selected randomly with probability $\\epsilon = 0.1$.\n",
    "3) The third action could have been selected randomly.\n",
    "4) The fourth action could have been selected randomly.\n",
    "5) The fifth action is selected randomly with probability $\\epsilon = 0.1$."
   ]
  },
  {
   "cell_type": "markdown",
   "metadata": {},
   "source": [
    "## Exercise 2.3\n",
    "\n",
    "In the comparison shown in Figure 2.2, which method will perform best in the long run in terms of cumulative reward and cumulative probability of selecting the best action? How much better will it be? Express your answer quantitatively."
   ]
  },
  {
   "cell_type": "markdown",
   "metadata": {},
   "source": [
    "**Answer**: The $\\epsilon = 0.01$ method will choose the best action 0.99 of the time, while the $\\epsilon = 0.1$ method will choose it 0.90 of the time, leading to a 9% higher probability of selecting the best action for the $\\epsilon = 0.01$ case. The $\\epsilon = 0.01$ method will also have a higher cumulative reward, since it will choose the best action more often."
   ]
  },
  {
   "cell_type": "markdown",
   "metadata": {},
   "source": [
    "## Exercise 2.4\n",
    "\n",
    "If the step-size parameters, α_n, are not constant, then the estimate Q_n is a weighted average of previously received rewards with a weighting different from that given by (2.6). What is the weighting on each prior reward for the general case, analogous to (2.6), in terms of the sequence of step-size parameters?"
   ]
  },
  {
   "cell_type": "markdown",
   "metadata": {},
   "source": [
    "**Answer**:\n",
    "\n",
    "$$Q_{n+1} = \\alpha_n R_n + (1 - \\alpha_n) \\alpha_{n-1} R_{n-1} + \\cdots + (1 - \\alpha_n) (1 - \\alpha_{n-1}) \\cdots (1 - \\alpha_1) \\alpha_0 R_0 + (1 - \\alpha_n) (1 - \\alpha_{n-1}) \\cdots (1 - \\alpha_0) Q_0 \\\\\n",
    "\n",
    "\\text{weight}(R_i) = \\alpha_i (1 - \\alpha_{i+1}) \\cdots (1 - \\alpha_n) \\\\\n",
    "\n",
    "Q_{n+1} = Q_1 \\prod_{i=1}^{n} (1 - \\alpha_i) + \\sum_{i=1}^{n} \\left[ \\alpha_i R_i \\prod_{j=i+1}^{n} (1 - \\alpha_j) \\right]$$\n"
   ]
  },
  {
   "cell_type": "markdown",
   "metadata": {},
   "source": [
    "## Exercise 2.5 (programming)\n",
    "\n",
    "Design and conduct an experiment to demonstrate the difficulties that sample-average methods have for nonstationary problems. Use a modified version of the 10-armed testbed in which all the $q_*(a)$ start out equal and then take independent random walks (say by adding a normally distributed increment with mean 0 and standard deviation 0.01 to all the $q_*(a)$ on each step). Prepare plots like Figure 2.2 for an action-value method using sample averages, incrementally computed, and another action-value method using a constant step-size parameter, α = 0.1. Use ε = 0.1 and longer runs, say of 10,000 steps."
   ]
  },
  {
   "cell_type": "code",
   "execution_count": 1,
   "metadata": {
    "ExecuteTime": {
     "end_time": "2023-04-20T12:41:00.674698Z",
     "start_time": "2023-04-20T12:41:00.252897Z"
    }
   },
   "outputs": [],
   "source": [
    "import numpy as np\n",
    "import matplotlib.pyplot as plt"
   ]
  },
  {
   "cell_type": "code",
   "execution_count": 2,
   "metadata": {
    "ExecuteTime": {
     "end_time": "2023-04-20T12:41:01.592664Z",
     "start_time": "2023-04-20T12:41:01.578936Z"
    }
   },
   "outputs": [],
   "source": [
    "def run_experiment(num_bandits: int, time_steps: int, epsilon: float, alpha: float, stationary: bool):\n",
    "    \"\"\"\n",
    "    Runs a single experiment for the multi-armed bandit problem.\n",
    "\n",
    "    Args:\n",
    "        num_bandits: number of bandits\n",
    "        time_steps: number of time steps\n",
    "        epsilon: epsilon for epsilon-greedy action selection\n",
    "        alpha: alpha for constant step-size method\n",
    "        stationary: whether the bandits are stationary\n",
    "\n",
    "    Returns:\n",
    "        q_star: true action values\n",
    "        q_estimates_samp_avg: sample-average action values\n",
    "        q_estimates_alpha: constant step-size action values\n",
    "        actions_samp_avg: actions taken by sample-average method\n",
    "        actions_alpha: actions taken by constant step-size method\n",
    "        rewards_samp_avg: rewards received by sample-average method\n",
    "        rewards_alpha: rewards received by constant step-size method\n",
    "        action_counts_samp_avg: number of times each action was taken by sample-average method\n",
    "        action_counts_alpha: number of times each action was taken by constant step-size method\n",
    "    \"\"\"\n",
    "    # Initialize qs\n",
    "    q_star = np.zeros(num_bandits)\n",
    "    q_estimates_samp_avg = np.zeros(num_bandits)\n",
    "    q_estimates_alpha = np.zeros(num_bandits)\n",
    "\n",
    "    # Initialize action and reward arrays\n",
    "    actions_samp_avg = np.zeros(time_steps)\n",
    "    actions_alpha = np.zeros(time_steps)\n",
    "    rewards_samp_avg = np.zeros(time_steps)\n",
    "    rewards_alpha = np.zeros(time_steps)\n",
    "    action_counts_samp_avg = np.zeros(num_bandits)\n",
    "    action_counts_alpha = np.zeros(num_bandits)\n",
    "\n",
    "    # Run experiment\n",
    "    for t in range(time_steps):\n",
    "        # Sample-average method\n",
    "        if np.random.rand() < epsilon:\n",
    "            action_samp_avg = np.random.choice(num_bandits)\n",
    "        else:\n",
    "            action_samp_avg = np.argmax(q_estimates_samp_avg)\n",
    "\n",
    "        # Constant step-size method\n",
    "        if np.random.rand() < epsilon:\n",
    "            action_alpha = np.random.choice(num_bandits)\n",
    "        else:\n",
    "            action_alpha = np.argmax(q_estimates_alpha)\n",
    "\n",
    "        reward_samp_avg = np.random.normal(q_star[action_samp_avg], 1)\n",
    "        reward_alpha = np.random.normal(q_star[action_alpha], 1)\n",
    "\n",
    "        # Update action counts\n",
    "        action_counts_samp_avg[action_samp_avg] += 1\n",
    "        action_counts_alpha[action_alpha] += 1\n",
    "\n",
    "        # Update rewards\n",
    "        rewards_samp_avg[t] = reward_samp_avg\n",
    "        rewards_alpha[t] = reward_alpha\n",
    "\n",
    "        # Update action value estimates\n",
    "        q_estimates_samp_avg[action_samp_avg] += (reward_samp_avg - q_estimates_samp_avg[action_samp_avg]) / action_counts_samp_avg[action_samp_avg]\n",
    "        q_estimates_alpha[action_alpha] += alpha * (reward_alpha - q_estimates_alpha[action_alpha])\n",
    "\n",
    "        # Update true action values for non-stationary case\n",
    "        if not stationary:\n",
    "            q_star += np.random.normal(0, 0.01, num_bandits)\n",
    "\n",
    "    return rewards_samp_avg, rewards_alpha\n",
    "\n",
    "def run_experiments(num_experiments, num_bandits, time_steps, epsilon, alpha, stationary=True):\n",
    "    rewards_samp_avg = np.zeros(time_steps)\n",
    "    rewards_alpha = np.zeros(time_steps)\n",
    "\n",
    "    for i in range(num_experiments):\n",
    "        r_samp_avg, r_alpha = run_experiment(num_bandits, time_steps, epsilon, alpha, stationary)\n",
    "        rewards_samp_avg += r_samp_avg\n",
    "        rewards_alpha += r_alpha\n",
    "\n",
    "    rewards_samp_avg /= num_experiments\n",
    "    rewards_alpha /= num_experiments\n",
    "\n",
    "    return rewards_samp_avg, rewards_alpha"
   ]
  },
  {
   "cell_type": "code",
   "execution_count": 3,
   "metadata": {
    "pycharm": {
     "is_executing": true
    }
   },
   "outputs": [
    {
     "data": {
      "image/png": "[encoded data removed]",
      "text/plain": [
       "<Figure size 432x288 with 1 Axes>"
      ]
     },
     "metadata": {
      "needs_background": "light"
     },
     "output_type": "display_data"
    }
   ],
   "source": [
    "num_experiments = 2000\n",
    "num_bandits = 10\n",
    "time_steps = 10000\n",
    "epsilon = 0.1\n",
    "alpha = 0.1\n",
    "stationary = False\n",
    "\n",
    "rewards_samp_avg, rewards_alpha = run_experiments(num_experiments, num_bandits, time_steps, epsilon, alpha, stationary)\n",
    "\n",
    "plt.plot(rewards_samp_avg, label='Sample Average')\n",
    "plt.plot(rewards_alpha, label='Constant Step Size')\n",
    "plt.xlabel('Steps')\n",
    "plt.ylabel('Average Reward')\n",
    "plt.legend()\n",
    "plt.show()\n"
   ]
  },
  {
   "cell_type": "markdown",
   "source": [
    "## Exercise 2.6\n",
    "\n",
    "The results shown in Figure 2.3 should be quite reliable because they are averages over 2000 individual, randomly chosen 10-armed bandit tasks. Why, then, are there oscillations and spikes in the early parts of the curves for optimistic method? In other words, what might make this method perform particularly better or worse, on average, on particular early steps?"
   ],
   "metadata": {
    "collapsed": false
   }
  },
  {
   "cell_type": "markdown",
   "source": [
    "**Answer:**"
   ],
   "metadata": {
    "collapsed": false
   }
  },
  {
   "cell_type": "markdown",
   "source": [
    "## Exercise 2.7\n",
    "\n"
   ],
   "metadata": {
    "collapsed": false
   }
  }
 ],
 "metadata": {
  "kernelspec": {
   "display_name": "Python 3 (ipykernel)",
   "language": "python",
   "name": "python3"
  },
  "language_info": {
   "codemirror_mode": {
    "name": "ipython",
    "version": 3
   },
   "file_extension": ".py",
   "mimetype": "text/x-python",
   "name": "python",
   "nbconvert_exporter": "python",
   "pygments_lexer": "ipython3",
   "version": "3.10.4"
  }
 },
 "nbformat": 4,
 "nbformat_minor": 1
}
